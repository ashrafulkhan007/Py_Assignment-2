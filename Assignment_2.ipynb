{
 "cells": [
  {
   "cell_type": "markdown",
   "id": "4ab44cb1",
   "metadata": {},
   "source": [
    "# Assignment 2\n",
    "\n",
    "#### MD Ashraful Hakim Khan Siddiquee\n",
    "#### MD Easin\n",
    "#### Aklima Begum Mitu"
   ]
  },
  {
   "cell_type": "markdown",
   "id": "498d0092",
   "metadata": {},
   "source": [
    "## Task 1 (6 points)\n",
    "\n",
    "#### Classes for Bank Account Management\n",
    "\n",
    "Imagine you are responsible for developing an app to manage people's bank accounts and their entire lives' savings (no pressure ^^'). Your project manager asks you to write two classes in Python: \n",
    "\n",
    "- one to keep track of all the money the client has in the bank\n",
    "- one for every subaccount the client opened at the bank i.e. salary, rent...\n",
    "\n",
    "Complete the bodies of the following classes according to the EXACT INSTRUCTIONS in the comments :^)"
   ]
  },
  {
   "cell_type": "code",
   "execution_count": 6,
   "id": "1f7632a2",
   "metadata": {},
   "outputs": [],
   "source": [
    "class BankAccount:\n",
    "    \"\"\"General bank account class.\n",
    "    It keeps track of all the transactions a user makes in their subaccounts.\n",
    "    \"\"\"\n",
    "     \n",
    "    # Keeps track of the balances throughout all the sub-accounts\n",
    "    _overall_balance = 0.0\n",
    "    \n",
    "    # Whether any subacccount is blocked\n",
    "    _blocked = False\n",
    "    \n",
    "    \n",
    "    def __init__(self, account_num, name, balance = 0.0, pin = '0000'):\n",
    "        \"\"\"Constructor for BankAccount objects.\n",
    "        \n",
    "        Attributes:\n",
    "        - account_num(str): number of the (sub)account\n",
    "        - name(str): name of the account owner\n",
    "        - _balance(float): current amount deposited. Cannot be negative. Default: 0.0.\n",
    "        - _pin(str): 4-character numerical string for the PIN code. Default: '0000'.\n",
    "        \n",
    "        Note that whenever a new subaccount is opened, the constructor adds the new deposit \n",
    "        to the overall balance.\n",
    "        \"\"\"\n",
    "        \n",
    "        self.account_num = str(account_num)\n",
    "        self.name = str(name)\n",
    "        self.balance = float(balance)\n",
    "        self.pin = str(pin)\n",
    "        BankAccount._overall_balance += balance\n",
    "    \n",
    "    \n",
    "    def check_pin(self):\n",
    "        \"\"\"Auxiliary method that asks the user to insert the PIN.\n",
    "        \n",
    "        Returns True, if the user introduced the right PIN in at most 3 tries, otherwise False.\n",
    "        \"\"\"\n",
    "        for i in range(0, 3):\n",
    "            a = input(\"Please insert the PIN: \")\n",
    "            if self.pin == a:\n",
    "                return True\n",
    "            elif i == 2:\n",
    "                BankAccount._blocked = True\n",
    "                print(\"Your account is now blocked because of too many failed trials to enter the PIN!\")\n",
    "        return False\n",
    "        \n",
    "    \n",
    "    def deposit(self, amount):\n",
    "        \"\"\"Method to add more money to the account, if no accounts are blocked and if the user introduces the correct PIN.\n",
    "        If the user introduces a wrong PIN 3 times, all their (sub)accounts are blocked. \n",
    "        \n",
    "        Parameters:\n",
    "        - amount(float): new amount to add to the current deposit. Cannot be negative.\n",
    "        \n",
    "        After successful transaction, the overall balance will be adjusted.\n",
    "        \"\"\"\n",
    "        amount.float()\n",
    "        if amount < 0:\n",
    "            print(\"Negative amount can't be deposited.\")\n",
    "        elif BankAccount._blocked == False and self.check_pin():\n",
    "            BankAccount._overall_balance += amount\n",
    "            self.balance += amount\n",
    "            print(amount, \"was added to your account.\")\n",
    "        else:\n",
    "            print(\"Sorry, your accounts are blocked!\")\n",
    "        return\n",
    "\n",
    "    def withdraw(self, amount):\n",
    "        \"\"\"Method to remove money from the account, if no accounts are blocked and if the user introduces the correct PIN.\n",
    "        If the user introduces a wrong PIN 3 times, all their (sub)accounts are blocked. \n",
    "        \n",
    "        Parameters:\n",
    "        - amount(float): amount to remove from the current deposit. Cannot be greater than the current balance.\n",
    "        \n",
    "        After successful transaction, the overall balance will be adjusted.\n",
    "        \"\"\"\n",
    "        amount.float()\n",
    "        if amount > self.balance:\n",
    "            print(\"Insufficient Balance\")\n",
    "        elif BankAccount._blocked == False and self.check_pin():\n",
    "            BankAccount._overall_balance -= amount\n",
    "            self.balance -= amount\n",
    "            print(amount, \"was deducted from your account.\")\n",
    "        else:\n",
    "            print(\"Sorry, your accounts are blocked!\")\n",
    "        return\n",
    "        \n",
    "        \n",
    "class SubAccount(BankAccount):\n",
    "    \"\"\"Class for a specific subaccount derived from BankAccount.\n",
    "    \"\"\"\n",
    "    \n",
    "    def __init__(self, account_num, name, balance, pin, account_type):\n",
    "        \"\"\"Constructor for SubAccount objects.\n",
    "        \n",
    "        Attributes (additional to BankAccount attributes):\n",
    "        - account_type(str): what the account is used for i.e. salary, rent etc.\n",
    "        \"\"\"\n",
    "        \n",
    "        super().__init__(account_num, name, balance, pin)\n",
    "        self.balance = balance\n",
    "        self.account_type = str(account_type)\n",
    "        \n",
    "    def __str__(self):\n",
    "        \"\"\"Prints infos for the current subaccount (account number, owner name, account type, balance), as well as\n",
    "        the total balance from all accounts, if and only if none of the account were blocked and if the user introduces \n",
    "        the right PIN in maximum 3 tries. Otherwise, blocks all accounts.\n",
    "        \"\"\"\n",
    "        \n",
    "        if BankAccount._blocked:\n",
    "            return \"Sorry, your accounts are blocked!\"\n",
    "        elif self.check_pin():\n",
    "            return f\"Account number:  {self.account_num}\\nAccount owner: {self.name}\\nAccount type: {self.account_type}\\nBalance: {self.balance}\\nTotalBalance: {BankAccount._overall_balance}\"\n",
    "        return str()"
   ]
  },
  {
   "cell_type": "code",
   "execution_count": 7,
   "id": "46c9e6d1",
   "metadata": {},
   "outputs": [],
   "source": [
    "# Create 2 subaccounts for client Max Mustermann (don't change these lines)\n",
    "acc1 = SubAccount(\"1234\", \"Max Mustermann\", 500, \"3333\", \"Salary\")\n",
    "acc2 = SubAccount(\"5678\", \"Max Mustermann\", 1000, \"7777\", \"Mortgage\")"
   ]
  },
  {
   "cell_type": "markdown",
   "id": "34f53850",
   "metadata": {},
   "source": [
    "**Note**: All the tests below need to return the exact same result."
   ]
  },
  {
   "cell_type": "code",
   "execution_count": 8,
   "id": "9315d2f5",
   "metadata": {},
   "outputs": [
    {
     "name": "stdout",
     "output_type": "stream",
     "text": [
      "Please insert the PIN: 3333\n",
      "Account number:  1234\n",
      "Account owner: Max Mustermann\n",
      "Account type: Salary\n",
      "Balance: 500\n",
      "TotalBalance: 1500.0\n"
     ]
    }
   ],
   "source": [
    "# Check info for the first subacc.\n",
    "print(acc1)"
   ]
  },
  {
   "cell_type": "code",
   "execution_count": 9,
   "id": "39ae5b37",
   "metadata": {
    "scrolled": true
   },
   "outputs": [
    {
     "name": "stdout",
     "output_type": "stream",
     "text": [
      "Please insert the PIN: 8888\n",
      "Please insert the PIN: 7777\n",
      "Account number:  5678\n",
      "Account owner: Max Mustermann\n",
      "Account type: Mortgage\n",
      "Balance: 1000\n",
      "TotalBalance: 1500.0\n"
     ]
    }
   ],
   "source": [
    "# Check info for the second subacc.\n",
    "# Try introducing the PIN wrong the first time\n",
    "print(acc2)"
   ]
  },
  {
   "cell_type": "code",
   "execution_count": 10,
   "id": "367299ad",
   "metadata": {},
   "outputs": [
    {
     "name": "stdout",
     "output_type": "stream",
     "text": [
      "Please insert the PIN: 3333\n",
      "2000 was added to your account.\n",
      "Please insert the PIN: 3333\n",
      "Account number:  1234\n",
      "Account owner: Max Mustermann\n",
      "Account type: Salary\n",
      "Balance: 2500\n",
      "TotalBalance: 3500.0\n"
     ]
    }
   ],
   "source": [
    "# Add money to first subacc. and check info\n",
    "acc1.deposit(2000)\n",
    "print(acc1)"
   ]
  },
  {
   "cell_type": "code",
   "execution_count": 11,
   "id": "e05d482e",
   "metadata": {},
   "outputs": [
    {
     "name": "stdout",
     "output_type": "stream",
     "text": [
      "Please insert the PIN: 7777\n",
      "200 was deducted from your account.\n",
      "Please insert the PIN: 7777\n",
      "Account number:  5678\n",
      "Account owner: Max Mustermann\n",
      "Account type: Mortgage\n",
      "Balance: 800\n",
      "TotalBalance: 3300.0\n"
     ]
    }
   ],
   "source": [
    "# Add money to second subacc. and check info\n",
    "acc2.withdraw(200)\n",
    "print(acc2)"
   ]
  },
  {
   "cell_type": "code",
   "execution_count": 12,
   "id": "a1774dd7",
   "metadata": {},
   "outputs": [
    {
     "name": "stdout",
     "output_type": "stream",
     "text": [
      "Please insert the PIN: 0987\n",
      "Please insert the PIN: 4444\n",
      "Please insert the PIN: 0000\n",
      "Your account is now blocked because of too many failed trials to enter the PIN!\n",
      "\n"
     ]
    }
   ],
   "source": [
    "# Enter false PIN 3 times\n",
    "print(acc1) "
   ]
  },
  {
   "cell_type": "code",
   "execution_count": 13,
   "id": "973af0ea",
   "metadata": {},
   "outputs": [
    {
     "name": "stdout",
     "output_type": "stream",
     "text": [
      "Sorry, your accounts are blocked!\n",
      "Sorry, your accounts are blocked!\n",
      "Sorry, your accounts are blocked!\n",
      "Sorry, your accounts are blocked!\n"
     ]
    }
   ],
   "source": [
    "# Check that you can't operate on any account now\n",
    "print(acc1)\n",
    "print(acc2)\n",
    "acc1.deposit(10)\n",
    "acc2.withdraw(10)"
   ]
  },
  {
   "cell_type": "markdown",
   "id": "a012ce53",
   "metadata": {},
   "source": [
    "## Task 2 (4 points)\n",
    "\n",
    "#### Reading Text Files\n",
    "\n",
    "Copy the file *country_info.txt* from the lecture folder into the same folder as this notebook. Take a look inside the file to understand the data.\n",
    "\n",
    "Write a program that reads the file and stores all the country information in a suitable data structure. \n",
    "\n",
    "Afterwards, ask the user to enter a country name. Based on the user input, return the capital and currency of that country. The user should be prompted to enter a new country until they type in **quit**. In case the input is not a country name in your data structure, notify the user accordingly and ask them to enter a new valid country. Below is an example of the output:\n",
    "\n",
    "```python\n",
    "Please enter the name of a country: Germany\n",
    "The capital of Germany is Berlin. Their currency is Euro.\n",
    "Please enter the name of a country: Romania\n",
    "The capital of Romania is Bucharest. Their currency is Romanian leu.\n",
    "Please enter the name of a country: LaLaLand\n",
    "Sorry, I do not understand the input...\n",
    "Please enter the name of a country: quit\n",
    "\n",
    "```"
   ]
  },
  {
   "cell_type": "code",
   "execution_count": 5,
   "id": "d6517034",
   "metadata": {},
   "outputs": [
    {
     "name": "stdout",
     "output_type": "stream",
     "text": [
      "Please enter the name of a country: Germany\n",
      "The capital of Germany is Berlin. Their currency is Euro.\n",
      "Please enter the name of a country: Romania\n",
      "The capital of Romania is Bucharest. Their currency is Romanian leu.\n",
      "Please enter the name of a country: LaLaLand\n",
      "Sorry, I do not understand the input...\n",
      "Please enter the name of a country: quit\n"
     ]
    }
   ],
   "source": [
    "input_filename = 'country_info.txt'\n",
    "fields = ['Country', 'Capital', 'CC', 'CC3', 'IAC', 'TimeZone', 'Currency']\n",
    "list1 = []\n",
    "\n",
    "# Open file and store data in a suitable format\n",
    "with open(input_filename, encoding='utf-8') as country_file:\n",
    "    for line in country_file:\n",
    "        description = list(line.strip().split(\"|\", 7))\n",
    "        i = 0\n",
    "        dict1 = {}\n",
    "        while i < len(fields):\n",
    "            dict1[fields[i]] = description[i]\n",
    "            i = i + 1\n",
    "        list1.append(dict1)\n",
    "\n",
    "# Interact with the user as in the example output above\n",
    "while True:\n",
    "    \n",
    "    user_input = input(\"Please enter the name of a country: \")\n",
    "    if user_input == 'quit':\n",
    "        break\n",
    "    for x in list1:\n",
    "        dict2 = x\n",
    "        if user_input == dict2['Country']:\n",
    "            capital = dict2['Capital']\n",
    "            currency = dict2['Currency']\n",
    "            print(f'The capital of {user_input} is {capital}. Their currency is {currency}.')\n",
    "            break\n",
    "    if user_input != dict2['Country']:\n",
    "        print('Sorry, I do not understand the input...')"
   ]
  },
  {
   "cell_type": "code",
   "execution_count": null,
   "id": "fd3e2525",
   "metadata": {},
   "outputs": [],
   "source": []
  }
 ],
 "metadata": {
  "kernelspec": {
   "display_name": "Python 3 (ipykernel)",
   "language": "python",
   "name": "python3"
  },
  "language_info": {
   "codemirror_mode": {
    "name": "ipython",
    "version": 3
   },
   "file_extension": ".py",
   "mimetype": "text/x-python",
   "name": "python",
   "nbconvert_exporter": "python",
   "pygments_lexer": "ipython3",
   "version": "3.9.12"
  }
 },
 "nbformat": 4,
 "nbformat_minor": 5
}
